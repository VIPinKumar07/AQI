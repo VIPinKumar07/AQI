{
  "nbformat": 4,
  "nbformat_minor": 0,
  "metadata": {
    "colab": {
      "name": "Html_script.ipynb",
      "provenance": [],
      "collapsed_sections": [],
      "authorship_tag": "ABX9TyNUT8S64g8ZKVVpboDbwlYi",
      "include_colab_link": true
    },
    "kernelspec": {
      "name": "python3",
      "display_name": "Python 3"
    },
    "language_info": {
      "name": "python"
    }
  },
  "cells": [
    {
      "cell_type": "markdown",
      "metadata": {
        "id": "view-in-github",
        "colab_type": "text"
      },
      "source": [
        "<a href=\"https://colab.research.google.com/github/VIPinKumar07/AQI/blob/main/Html_script.ipynb\" target=\"_parent\"><img src=\"https://colab.research.google.com/assets/colab-badge.svg\" alt=\"Open In Colab\"/></a>"
      ]
    },
    {
      "cell_type": "code",
      "execution_count": 1,
      "metadata": {
        "id": "ltsSuaE8TWs4"
      },
      "outputs": [],
      "source": [
        "import os\n",
        "import time\n",
        "import requests\n",
        "import sys"
      ]
    },
    {
      "cell_type": "code",
      "source": [
        "def retrieve_html():\n",
        "  for year in range(2015, 2021):\n",
        "    for month in range(1, 13):\n",
        "      if(month<10):\n",
        "        url = \"https://en.tutiempo.net/climate/0{}-{}/ws-432950.html\".format(month, year)\n",
        "      else:\n",
        "        url = \"https://en.tutiempo.net/climate/{}-{}/ws-432950.html\".format(month, year)\n",
        "\n",
        "      texts = requests.get(url)\n",
        "      text_utf = texts.text.encode('utf=8')\n",
        "\n",
        "      if not os.path.exists(\"Data/Html_data/{}\".format(year)):\n",
        "        os.makedirs(\"Data/Html_data/{}\".format(year))\n",
        "      with open(\"Data/Html_data/{}/{}.html\".format(year, month),\"wb\") as output:\n",
        "        output.write(text_utf)\n",
        "\n",
        "      sys.stdout.flush()"
      ],
      "metadata": {
        "id": "Cv90W4x0Tm-e"
      },
      "execution_count": 2,
      "outputs": []
    },
    {
      "cell_type": "code",
      "source": [
        "if __name__=='__main__':\n",
        "  start_time = time.time()\n",
        "  retrieve_html()\n",
        "  stop_time = time.time()\n",
        "  print(\"Time taken is {}\".format(stop_time-start_time))"
      ],
      "metadata": {
        "colab": {
          "base_uri": "https://localhost:8080/"
        },
        "id": "YBiukAyKYyIC",
        "outputId": "fcd82f85-2c2a-4936-d676-ee0a1ce9e28e"
      },
      "execution_count": 3,
      "outputs": [
        {
          "output_type": "stream",
          "name": "stdout",
          "text": [
            "Time taken is 81.43780493736267\n"
          ]
        }
      ]
    }
  ]
}